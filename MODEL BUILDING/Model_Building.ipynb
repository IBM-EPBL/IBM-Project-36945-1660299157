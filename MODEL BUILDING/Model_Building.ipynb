{
  "nbformat": 4,
  "nbformat_minor": 0,
  "metadata": {
    "colab": {
      "provenance": []
    },
    "kernelspec": {
      "name": "python3",
      "display_name": "Python 3"
    },
    "language_info": {
      "name": "python"
    }
  },
  "cells": [
    {
      "cell_type": "markdown",
      "source": [
        "# MODEL BUILDING"
      ],
      "metadata": {
        "id": "AuWqmrIV2tyQ"
      }
    },
    {
      "cell_type": "code",
      "execution_count": 6,
      "metadata": {
        "id": "2f3q81fh0nWy"
      },
      "outputs": [],
      "source": [
        "from tensorflow.keras.layers import Dense, Flatten, Input\n",
        "from tensorflow.keras.models import Model\n",
        "from tensorflow.keras.preprocessing import image\n",
        "from tensorflow.keras.preprocessing.image import ImageDataGenerator, load_img\n",
        "from tensorflow.keras.applications.vgg16 import VGG16, preprocess_input\n",
        "from glob import glob\n",
        "import numpy as np\n",
        "import matplotlib.pyplot as plt"
      ]
    },
    {
      "cell_type": "code",
      "source": [
        "imageSize = [224, 224]\n",
        "\n",
        "trainPath = r\"/content/drive/MyDrive/Project Phase - I and IBM/IBM/Car damage/body/training\"\n",
        "\n",
        "testPath = r\"/content/drive/MyDrive/Project Phase - I and IBM/IBM/Car damage/body/validation\""
      ],
      "metadata": {
        "id": "03rCXoOf2tM_"
      },
      "execution_count": 7,
      "outputs": []
    },
    {
      "cell_type": "code",
      "source": [
        "# adding preprocessing layers to the front of vgg\n",
        "\n",
        "vgg = VGG16(input_shape=imageSize + [3], weights='imagenet',include_top=False)"
      ],
      "metadata": {
        "colab": {
          "base_uri": "https://localhost:8080/"
        },
        "id": "xIqS5wby2-wN",
        "outputId": "43820060-7051-42d8-f3d9-040e2bb4f406"
      },
      "execution_count": 8,
      "outputs": [
        {
          "output_type": "stream",
          "name": "stdout",
          "text": [
            "Downloading data from https://storage.googleapis.com/tensorflow/keras-applications/vgg16/vgg16_weights_tf_dim_ordering_tf_kernels_notop.h5\n",
            "58889256/58889256 [==============================] - 2s 0us/step\n"
          ]
        }
      ]
    },
    {
      "cell_type": "code",
      "source": [
        "# don't train existing weights\n",
        "for layer in vgg.layers:\n",
        "  layer.trainable = False\n",
        "# our layers - you can add more if you want\n",
        "x = Flatten()(vgg.output)"
      ],
      "metadata": {
        "id": "eOHw7C-T4TLW"
      },
      "execution_count": 9,
      "outputs": []
    },
    {
      "cell_type": "code",
      "source": [
        "prediction = Dense(3, activation='softmax')(x)"
      ],
      "metadata": {
        "id": "7BV8dakU6Rao"
      },
      "execution_count": 10,
      "outputs": []
    },
    {
      "cell_type": "code",
      "source": [
        "# create a model object\n",
        "model = Model(inputs=vgg.input, outputs=prediction)\n",
        "# view the structure of the model\n",
        "model.summary()"
      ],
      "metadata": {
        "colab": {
          "base_uri": "https://localhost:8080/"
        },
        "id": "P72Z1EeC6cTt",
        "outputId": "89858c44-1fd9-47db-caa7-6fe3f4efebc7"
      },
      "execution_count": 11,
      "outputs": [
        {
          "output_type": "stream",
          "name": "stdout",
          "text": [
            "Model: \"model\"\n",
            "_________________________________________________________________\n",
            " Layer (type)                Output Shape              Param #   \n",
            "=================================================================\n",
            " input_1 (InputLayer)        [(None, 224, 224, 3)]     0         \n",
            "                                                                 \n",
            " block1_conv1 (Conv2D)       (None, 224, 224, 64)      1792      \n",
            "                                                                 \n",
            " block1_conv2 (Conv2D)       (None, 224, 224, 64)      36928     \n",
            "                                                                 \n",
            " block1_pool (MaxPooling2D)  (None, 112, 112, 64)      0         \n",
            "                                                                 \n",
            " block2_conv1 (Conv2D)       (None, 112, 112, 128)     73856     \n",
            "                                                                 \n",
            " block2_conv2 (Conv2D)       (None, 112, 112, 128)     147584    \n",
            "                                                                 \n",
            " block2_pool (MaxPooling2D)  (None, 56, 56, 128)       0         \n",
            "                                                                 \n",
            " block3_conv1 (Conv2D)       (None, 56, 56, 256)       295168    \n",
            "                                                                 \n",
            " block3_conv2 (Conv2D)       (None, 56, 56, 256)       590080    \n",
            "                                                                 \n",
            " block3_conv3 (Conv2D)       (None, 56, 56, 256)       590080    \n",
            "                                                                 \n",
            " block3_pool (MaxPooling2D)  (None, 28, 28, 256)       0         \n",
            "                                                                 \n",
            " block4_conv1 (Conv2D)       (None, 28, 28, 512)       1180160   \n",
            "                                                                 \n",
            " block4_conv2 (Conv2D)       (None, 28, 28, 512)       2359808   \n",
            "                                                                 \n",
            " block4_conv3 (Conv2D)       (None, 28, 28, 512)       2359808   \n",
            "                                                                 \n",
            " block4_pool (MaxPooling2D)  (None, 14, 14, 512)       0         \n",
            "                                                                 \n",
            " block5_conv1 (Conv2D)       (None, 14, 14, 512)       2359808   \n",
            "                                                                 \n",
            " block5_conv2 (Conv2D)       (None, 14, 14, 512)       2359808   \n",
            "                                                                 \n",
            " block5_conv3 (Conv2D)       (None, 14, 14, 512)       2359808   \n",
            "                                                                 \n",
            " block5_pool (MaxPooling2D)  (None, 7, 7, 512)         0         \n",
            "                                                                 \n",
            " flatten (Flatten)           (None, 25088)             0         \n",
            "                                                                 \n",
            " dense (Dense)               (None, 3)                 75267     \n",
            "                                                                 \n",
            "=================================================================\n",
            "Total params: 14,789,955\n",
            "Trainable params: 75,267\n",
            "Non-trainable params: 14,714,688\n",
            "_________________________________________________________________\n"
          ]
        }
      ]
    },
    {
      "cell_type": "code",
      "source": [
        "# tell the model what cost and optimization method to use\n",
        "model.compile(\n",
        "  loss='categorical_crossentropy',\n",
        "  optimizer='adam',\n",
        "  metrics=['accuracy']\n",
        ")\n",
        "train_datagen = ImageDataGenerator(rescale = 1./255,\n",
        "                                   shear_range = 0.2,\n",
        "                                   zoom_range = 0.2,\n",
        "                                   horizontal_flip = True)\n",
        "\n",
        "test_datagen = ImageDataGenerator(rescale = 1./255)\n",
        "training_set = train_datagen.flow_from_directory(trainPath,\n",
        "                                                 target_size = (224, 224),\n",
        "                                                 batch_size = 10,\n",
        "                                                 class_mode = 'categorical')\n",
        "\n",
        "test_set = test_datagen.flow_from_directory(testPath,\n",
        "                                            target_size = (224, 224),\n",
        "                                            batch_size = 10,\n",
        "                                            class_mode = 'categorical')"
      ],
      "metadata": {
        "colab": {
          "base_uri": "https://localhost:8080/"
        },
        "id": "GOFOTUsa6n8c",
        "outputId": "94d95d68-3535-4cae-870b-ac0821893757"
      },
      "execution_count": 12,
      "outputs": [
        {
          "output_type": "stream",
          "name": "stdout",
          "text": [
            "Found 979 images belonging to 3 classes.\n",
            "Found 171 images belonging to 3 classes.\n"
          ]
        }
      ]
    },
    {
      "cell_type": "code",
      "source": [
        "import sys\n",
        "# fit the model\n",
        "r = model.fit_generator(\n",
        "  training_set,\n",
        "  validation_data=test_set,\n",
        "  epochs=10,\n",
        "  steps_per_epoch=979//10,\n",
        "  validation_steps=171//10)"
      ],
      "metadata": {
        "colab": {
          "base_uri": "https://localhost:8080/"
        },
        "id": "MqQCkZGL6wQM",
        "outputId": "8eb9f501-742f-4c38-967c-1c5f320f36d4"
      },
      "execution_count": 13,
      "outputs": [
        {
          "output_type": "stream",
          "name": "stderr",
          "text": [
            "/usr/local/lib/python3.7/dist-packages/ipykernel_launcher.py:8: UserWarning: `Model.fit_generator` is deprecated and will be removed in a future version. Please use `Model.fit`, which supports generators.\n",
            "  \n"
          ]
        },
        {
          "output_type": "stream",
          "name": "stdout",
          "text": [
            "Epoch 1/10\n",
            "97/97 [==============================] - 637s 7s/step - loss: 1.1592 - accuracy: 0.5263 - val_loss: 1.0584 - val_accuracy: 0.5471\n",
            "Epoch 2/10\n",
            "97/97 [==============================] - 617s 6s/step - loss: 0.7791 - accuracy: 0.6997 - val_loss: 0.9812 - val_accuracy: 0.6353\n",
            "Epoch 3/10\n",
            "97/97 [==============================] - 617s 6s/step - loss: 0.6514 - accuracy: 0.7461 - val_loss: 1.0164 - val_accuracy: 0.6882\n",
            "Epoch 4/10\n",
            "97/97 [==============================] - 619s 6s/step - loss: 0.4577 - accuracy: 0.8050 - val_loss: 0.9010 - val_accuracy: 0.7000\n",
            "Epoch 5/10\n",
            "97/97 [==============================] - 612s 6s/step - loss: 0.4060 - accuracy: 0.8535 - val_loss: 1.0814 - val_accuracy: 0.6529\n",
            "Epoch 6/10\n",
            "97/97 [==============================] - 615s 6s/step - loss: 0.3556 - accuracy: 0.8514 - val_loss: 0.8950 - val_accuracy: 0.7118\n",
            "Epoch 7/10\n",
            "97/97 [==============================] - 622s 6s/step - loss: 0.3323 - accuracy: 0.8731 - val_loss: 1.1309 - val_accuracy: 0.7118\n",
            "Epoch 8/10\n",
            "97/97 [==============================] - 625s 6s/step - loss: 0.3332 - accuracy: 0.8720 - val_loss: 1.1152 - val_accuracy: 0.6588\n",
            "Epoch 9/10\n",
            "97/97 [==============================] - 625s 6s/step - loss: 0.3125 - accuracy: 0.8834 - val_loss: 1.0874 - val_accuracy: 0.6647\n",
            "Epoch 10/10\n",
            "97/97 [==============================] - 621s 6s/step - loss: 0.1743 - accuracy: 0.9340 - val_loss: 1.1159 - val_accuracy: 0.6824\n"
          ]
        }
      ]
    },
    {
      "cell_type": "code",
      "source": [
        "#save the model\n",
        "model.save('body.h5')"
      ],
      "metadata": {
        "id": "FDdtaWiY7ArF"
      },
      "execution_count": 14,
      "outputs": []
    },
    {
      "cell_type": "code",
      "source": [
        "#import load_model class for loading h5 file\n",
        "from tensorflow.keras.models import load_model\n",
        "#import image class to process the images\n",
        "from tensorflow.keras.preprocessing import image\n",
        "from tensorflow.keras.applications.inception_v3 import preprocess_input\n",
        "import numpy as np\n",
        "#load one random image from local system\n",
        "img=image.load_img(r'/content/drive/MyDrive/Project Phase - I and IBM/IBM/Car damage/body/training/00-front/0002.JPEG',target_size=(224,224))\n",
        "#convert image to array format\n",
        "x=image.img_to_array(img)\n",
        "import numpy as np\n",
        "x=np.expand_dims(x,axis=0)\n",
        "img_data=preprocess_input(x)\n",
        "img_data.shape\n",
        "(1, 224, 224, 3)\n",
        "img_data.shape\n",
        "(1, 224, 224, 3)\n",
        "model.predict(img_data)"
      ],
      "metadata": {
        "colab": {
          "base_uri": "https://localhost:8080/"
        },
        "id": "mvBjP7q17zdn",
        "outputId": "f3b7d97a-f4aa-4fd9-cde0-8e4294d8dd5f"
      },
      "execution_count": 15,
      "outputs": [
        {
          "output_type": "stream",
          "name": "stdout",
          "text": [
            "1/1 [==============================] - 1s 740ms/step\n"
          ]
        },
        {
          "output_type": "execute_result",
          "data": {
            "text/plain": [
              "array([[9.9837118e-01, 1.6288816e-03, 1.6804096e-08]], dtype=float32)"
            ]
          },
          "metadata": {},
          "execution_count": 15
        }
      ]
    },
    {
      "cell_type": "code",
      "source": [
        "output=np.argmax(model.predict(img_data), axis=1)"
      ],
      "metadata": {
        "colab": {
          "base_uri": "https://localhost:8080/"
        },
        "id": "4hHUPr5oTuAz",
        "outputId": "d8e74c42-1f92-4898-cd86-46eb727b5ca6"
      },
      "execution_count": 16,
      "outputs": [
        {
          "output_type": "stream",
          "name": "stdout",
          "text": [
            "1/1 [==============================] - 1s 535ms/step\n"
          ]
        }
      ]
    },
    {
      "cell_type": "code",
      "source": [
        "imageSize = [224, 224]\n",
        "\n",
        "trainPath = r\"/content/drive/MyDrive/Project Phase - I and IBM/IBM/Car damage/level/training\"\n",
        "\n",
        "testPath = r\"/content/drive/MyDrive/Project Phase - I and IBM/IBM/Car damage/level/validation\"\n",
        "vgg1 = VGG16(input_shape=imageSize + [3], weights='imagenet',include_top=False)\n",
        "for layer in vgg1.layers:\n",
        "  layer.trainable = False\n",
        "# our layers - you can add more if you want\n",
        "x = Flatten()(vgg1.output)\n",
        "prediction = Dense(3, activation='softmax')(x)\n",
        "# create a model object\n",
        "model1 = Model(inputs=vgg1.input, outputs=prediction)\n",
        "# tell the model what cost and optimization method to use\n",
        "model1.compile(\n",
        "  loss='categorical_crossentropy',\n",
        "  optimizer='adam',\n",
        "  metrics=['accuracy']\n",
        ")\n",
        "train_datagen = ImageDataGenerator(rescale = 1./255,\n",
        "                                   shear_range = 0.2,\n",
        "                                   zoom_range = 0.2,\n",
        "                                   horizontal_flip = True)\n",
        "\n",
        "test_datagen = ImageDataGenerator(rescale = 1./255)\n",
        "training_set = train_datagen.flow_from_directory(trainPath,\n",
        "                                                 target_size = (224, 224),\n",
        "                                                 batch_size = 10,\n",
        "                                                 class_mode = 'categorical')\n",
        "\n",
        "test_set = test_datagen.flow_from_directory(testPath,\n",
        "                                            target_size = (224, 224),\n",
        "                                            batch_size = 10,\n",
        "                                            class_mode = 'categorical')"
      ],
      "metadata": {
        "colab": {
          "base_uri": "https://localhost:8080/"
        },
        "id": "UmtH-KbyT3Jc",
        "outputId": "2138add7-de5a-4ec7-e76b-ed0c69d41767"
      },
      "execution_count": 19,
      "outputs": [
        {
          "output_type": "stream",
          "name": "stdout",
          "text": [
            "Found 979 images belonging to 3 classes.\n",
            "Found 171 images belonging to 3 classes.\n"
          ]
        }
      ]
    },
    {
      "cell_type": "code",
      "source": [
        "r = model1.fit_generator(\n",
        "  training_set,\n",
        "  validation_data=test_set,\n",
        "  epochs=10,\n",
        "  steps_per_epoch=979//10,\n",
        "  validation_steps=171//10)"
      ],
      "metadata": {
        "colab": {
          "base_uri": "https://localhost:8080/"
        },
        "id": "9V0qThk9UHjQ",
        "outputId": "f3676d36-7623-4f1d-fa88-6c7f4e2a3175"
      },
      "execution_count": 20,
      "outputs": [
        {
          "output_type": "stream",
          "name": "stderr",
          "text": [
            "/usr/local/lib/python3.7/dist-packages/ipykernel_launcher.py:6: UserWarning: `Model.fit_generator` is deprecated and will be removed in a future version. Please use `Model.fit`, which supports generators.\n",
            "  \n"
          ]
        },
        {
          "output_type": "stream",
          "name": "stdout",
          "text": [
            "Epoch 1/10\n",
            "97/97 [==============================] - 625s 6s/step - loss: 1.1149 - accuracy: 0.5666 - val_loss: 0.9922 - val_accuracy: 0.5882\n",
            "Epoch 2/10\n",
            "97/97 [==============================] - 622s 6s/step - loss: 0.7830 - accuracy: 0.6987 - val_loss: 1.0464 - val_accuracy: 0.6118\n",
            "Epoch 3/10\n",
            "97/97 [==============================] - 624s 6s/step - loss: 0.7866 - accuracy: 0.7110 - val_loss: 1.1482 - val_accuracy: 0.6529\n",
            "Epoch 4/10\n",
            "97/97 [==============================] - 619s 6s/step - loss: 0.5039 - accuracy: 0.8142 - val_loss: 0.9899 - val_accuracy: 0.6412\n",
            "Epoch 5/10\n",
            "97/97 [==============================] - 592s 6s/step - loss: 0.3873 - accuracy: 0.8452 - val_loss: 0.9962 - val_accuracy: 0.6647\n",
            "Epoch 6/10\n",
            "97/97 [==============================] - 591s 6s/step - loss: 0.3728 - accuracy: 0.8617 - val_loss: 1.3588 - val_accuracy: 0.5471\n",
            "Epoch 7/10\n",
            "97/97 [==============================] - 590s 6s/step - loss: 0.2574 - accuracy: 0.9102 - val_loss: 1.1302 - val_accuracy: 0.6353\n",
            "Epoch 8/10\n",
            "97/97 [==============================] - 591s 6s/step - loss: 0.2909 - accuracy: 0.8906 - val_loss: 1.1498 - val_accuracy: 0.6353\n",
            "Epoch 9/10\n",
            "97/97 [==============================] - 594s 6s/step - loss: 0.2638 - accuracy: 0.8937 - val_loss: 1.3772 - val_accuracy: 0.5765\n",
            "Epoch 10/10\n",
            "97/97 [==============================] - 591s 6s/step - loss: 0.2334 - accuracy: 0.9123 - val_loss: 1.1959 - val_accuracy: 0.6471\n"
          ]
        }
      ]
    }
  ]
}